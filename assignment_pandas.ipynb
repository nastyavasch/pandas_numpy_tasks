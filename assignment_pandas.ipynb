{
 "cells": [
  {
   "cell_type": "markdown",
   "metadata": {},
   "source": [
    "## Датасет собран из базы данных переписи 1994 года и содержит данные о доходах.\n",
    "### Информация о данных:\n",
    "* age: continuous.\n",
    "* workclass: Private, Self-emp-not-inc, Self-emp-inc, Federal-gov, Local-gov, State-gov, Without-pay, Never-worked.\n",
    "* fnlwgt: continuous.\n",
    "* education: Bachelors, Some-college, 11th, HS-grad, Prof-school, Assoc-acdm, Assoc-voc, 9th, 7th-8th, 12th, * Masters, 1st-4th, 10th, Doctorate, 5th-6th, Preschool.\n",
    "* education-num: continuous.\n",
    "* marital-status: Married-civ-spouse, Divorced, Never-married, Separated, Widowed, Married-spouse-absent, Married-AF-spouse.\n",
    "* occupation: Tech-support, Craft-repair, Other-service, Sales, Exec-managerial, Prof-specialty, Handlers-cleaners, Machine-op-inspct, Adm-clerical, Farming-fishing, Transport-moving, Priv-house-serv, Protective-serv, Armed-Forces.\n",
    "* relationship: Wife, Own-child, Husband, Not-in-family, Other-relative, Unmarried.\n",
    "* race: White, Asian-Pac-Islander, Amer-Indian-Eskimo, Other, Black.\n",
    "* sex: Female, Male.\n",
    "* capital-gain: continuous.\n",
    "* capital-loss: continuous.\n",
    "* hours-per-week: continuous.\n",
    "* native-country: United-States, Cambodia, England, Puerto-Rico, Canada, Germany, Outlying-US(Guam-USVI-etc), India, Japan, Greece, South, China, Cuba, Iran, Honduras, Philippines, Italy, Poland, Jamaica, Vietnam, Mexico, Portugal, Ireland, France, Dominican-Republic, Laos, Ecuador, Taiwan, Haiti, Columbia, Hungary, Guatemala, Nicaragua, Scotland, Thailand, Yugoslavia, El-Salvador, Trinadad&Tobago, Peru, Hong, Holand-Netherlands.\n",
    "* salary: >50K,<=50K\n",
    "\n",
    "## Проведите анализ данных при помощи Pandas выполнив поставленные задачи.\n",
    "#### "
   ]
  },
  {
   "cell_type": "code",
   "execution_count": 1,
   "metadata": {},
   "outputs": [],
   "source": [
    "import pandas as pd"
   ]
  },
  {
   "cell_type": "code",
   "execution_count": 115,
   "metadata": {},
   "outputs": [
    {
     "data": {
      "text/html": [
       "<div>\n",
       "<style scoped>\n",
       "    .dataframe tbody tr th:only-of-type {\n",
       "        vertical-align: middle;\n",
       "    }\n",
       "\n",
       "    .dataframe tbody tr th {\n",
       "        vertical-align: top;\n",
       "    }\n",
       "\n",
       "    .dataframe thead th {\n",
       "        text-align: right;\n",
       "    }\n",
       "</style>\n",
       "<table border=\"1\" class=\"dataframe\">\n",
       "  <thead>\n",
       "    <tr style=\"text-align: right;\">\n",
       "      <th></th>\n",
       "      <th>age</th>\n",
       "      <th>workclass</th>\n",
       "      <th>fnlwgt</th>\n",
       "      <th>education</th>\n",
       "      <th>education-num</th>\n",
       "      <th>marital-status</th>\n",
       "      <th>occupation</th>\n",
       "      <th>relationship</th>\n",
       "      <th>race</th>\n",
       "      <th>sex</th>\n",
       "      <th>capital-gain</th>\n",
       "      <th>capital-loss</th>\n",
       "      <th>hours-per-week</th>\n",
       "      <th>native-country</th>\n",
       "      <th>salary</th>\n",
       "    </tr>\n",
       "  </thead>\n",
       "  <tbody>\n",
       "    <tr>\n",
       "      <th>0</th>\n",
       "      <td>39</td>\n",
       "      <td>State-gov</td>\n",
       "      <td>77516</td>\n",
       "      <td>Bachelors</td>\n",
       "      <td>13</td>\n",
       "      <td>Never-married</td>\n",
       "      <td>Adm-clerical</td>\n",
       "      <td>Not-in-family</td>\n",
       "      <td>White</td>\n",
       "      <td>Male</td>\n",
       "      <td>2174</td>\n",
       "      <td>0</td>\n",
       "      <td>40</td>\n",
       "      <td>United-States</td>\n",
       "      <td>&lt;=50K</td>\n",
       "    </tr>\n",
       "    <tr>\n",
       "      <th>1</th>\n",
       "      <td>50</td>\n",
       "      <td>Self-emp-not-inc</td>\n",
       "      <td>83311</td>\n",
       "      <td>Bachelors</td>\n",
       "      <td>13</td>\n",
       "      <td>Married-civ-spouse</td>\n",
       "      <td>Exec-managerial</td>\n",
       "      <td>Husband</td>\n",
       "      <td>White</td>\n",
       "      <td>Male</td>\n",
       "      <td>0</td>\n",
       "      <td>0</td>\n",
       "      <td>13</td>\n",
       "      <td>United-States</td>\n",
       "      <td>&lt;=50K</td>\n",
       "    </tr>\n",
       "    <tr>\n",
       "      <th>2</th>\n",
       "      <td>38</td>\n",
       "      <td>Private</td>\n",
       "      <td>215646</td>\n",
       "      <td>HS-grad</td>\n",
       "      <td>9</td>\n",
       "      <td>Divorced</td>\n",
       "      <td>Handlers-cleaners</td>\n",
       "      <td>Not-in-family</td>\n",
       "      <td>White</td>\n",
       "      <td>Male</td>\n",
       "      <td>0</td>\n",
       "      <td>0</td>\n",
       "      <td>40</td>\n",
       "      <td>United-States</td>\n",
       "      <td>&lt;=50K</td>\n",
       "    </tr>\n",
       "    <tr>\n",
       "      <th>3</th>\n",
       "      <td>53</td>\n",
       "      <td>Private</td>\n",
       "      <td>234721</td>\n",
       "      <td>11th</td>\n",
       "      <td>7</td>\n",
       "      <td>Married-civ-spouse</td>\n",
       "      <td>Handlers-cleaners</td>\n",
       "      <td>Husband</td>\n",
       "      <td>Black</td>\n",
       "      <td>Male</td>\n",
       "      <td>0</td>\n",
       "      <td>0</td>\n",
       "      <td>40</td>\n",
       "      <td>United-States</td>\n",
       "      <td>&lt;=50K</td>\n",
       "    </tr>\n",
       "    <tr>\n",
       "      <th>4</th>\n",
       "      <td>28</td>\n",
       "      <td>Private</td>\n",
       "      <td>338409</td>\n",
       "      <td>Bachelors</td>\n",
       "      <td>13</td>\n",
       "      <td>Married-civ-spouse</td>\n",
       "      <td>Prof-specialty</td>\n",
       "      <td>Wife</td>\n",
       "      <td>Black</td>\n",
       "      <td>Female</td>\n",
       "      <td>0</td>\n",
       "      <td>0</td>\n",
       "      <td>40</td>\n",
       "      <td>Cuba</td>\n",
       "      <td>&lt;=50K</td>\n",
       "    </tr>\n",
       "  </tbody>\n",
       "</table>\n",
       "</div>"
      ],
      "text/plain": [
       "   age         workclass  fnlwgt  education  education-num  \\\n",
       "0   39         State-gov   77516  Bachelors             13   \n",
       "1   50  Self-emp-not-inc   83311  Bachelors             13   \n",
       "2   38           Private  215646    HS-grad              9   \n",
       "3   53           Private  234721       11th              7   \n",
       "4   28           Private  338409  Bachelors             13   \n",
       "\n",
       "       marital-status         occupation   relationship   race     sex  \\\n",
       "0       Never-married       Adm-clerical  Not-in-family  White    Male   \n",
       "1  Married-civ-spouse    Exec-managerial        Husband  White    Male   \n",
       "2            Divorced  Handlers-cleaners  Not-in-family  White    Male   \n",
       "3  Married-civ-spouse  Handlers-cleaners        Husband  Black    Male   \n",
       "4  Married-civ-spouse     Prof-specialty           Wife  Black  Female   \n",
       "\n",
       "   capital-gain  capital-loss  hours-per-week native-country salary  \n",
       "0          2174             0              40  United-States  <=50K  \n",
       "1             0             0              13  United-States  <=50K  \n",
       "2             0             0              40  United-States  <=50K  \n",
       "3             0             0              40  United-States  <=50K  \n",
       "4             0             0              40           Cuba  <=50K  "
      ]
     },
     "execution_count": 115,
     "metadata": {},
     "output_type": "execute_result"
    }
   ],
   "source": [
    "# загружаем датасет\n",
    "data = pd.read_csv(\"./data/adult.data.csv\")\n",
    "data.head()"
   ]
  },
  {
   "cell_type": "markdown",
   "metadata": {},
   "source": [
    "**1. Посчитайте, сколько мужчин и женщин (признак *sex*) представлено в этом датасете**"
   ]
  },
  {
   "cell_type": "code",
   "execution_count": 10,
   "metadata": {},
   "outputs": [
    {
     "name": "stdout",
     "output_type": "stream",
     "text": [
      "sex\n",
      "Female    10771\n",
      "Male      21790\n",
      "Name: sex, dtype: int64\n"
     ]
    }
   ],
   "source": [
    "sex_count = data.groupby(['sex'])['sex'].count()\n",
    "print(sex_count)"
   ]
  },
  {
   "cell_type": "markdown",
   "metadata": {},
   "source": [
    "**2. Каков средний возраст мужчин (признак *age*) по всему датасету?**"
   ]
  },
  {
   "cell_type": "code",
   "execution_count": 4,
   "metadata": {},
   "outputs": [
    {
     "name": "stdout",
     "output_type": "stream",
     "text": [
      "sex\n",
      "Male    39.433547\n",
      "Name: age, dtype: float64\n"
     ]
    }
   ],
   "source": [
    "male_age_avg = data.where(data['sex'] == 'Male').groupby(['sex'])['age'].mean()\n",
    "print(male_age_avg)"
   ]
  },
  {
   "cell_type": "markdown",
   "metadata": {},
   "source": [
    "**3. Какова доля граждан Соединенных Штатов (признак *native-country*)?**"
   ]
  },
  {
   "cell_type": "code",
   "execution_count": 5,
   "metadata": {},
   "outputs": [
    {
     "name": "stdout",
     "output_type": "stream",
     "text": [
      "32561\n",
      "29170\n",
      "89.5857006848684\n"
     ]
    }
   ],
   "source": [
    "general_count = data['native-country'].count()\n",
    "print(general_count)\n",
    "usa_count = data.where(data['native-country'] == 'United-States')['native-country'].count()\n",
    "print(usa_count)\n",
    "usa_in_general = usa_count / general_count * 100\n",
    "print(usa_in_general)"
   ]
  },
  {
   "cell_type": "markdown",
   "metadata": {},
   "source": [
    "**4-5. Рассчитайте среднее значение и среднеквадратичное отклонение возраста тех, кто получает более 50K в год (признак *salary*) и тех, кто получает менее 50K в год**"
   ]
  },
  {
   "cell_type": "code",
   "execution_count": 6,
   "metadata": {},
   "outputs": [
    {
     "name": "stdout",
     "output_type": "stream",
     "text": [
      "salary\n",
      "<=50K    36.783738\n",
      ">50K     44.249841\n",
      "Name: age, dtype: float64\n",
      "salary\n",
      "<=50K    14.020088\n",
      ">50K     10.519028\n",
      "Name: age, dtype: float64\n"
     ]
    }
   ],
   "source": [
    "salary_age_avg = data.groupby(['salary'])['age'].mean()\n",
    "print(salary_age_avg)\n",
    "salary_age_std = data.groupby(['salary'])['age'].std()\n",
    "print(salary_age_std)"
   ]
  },
  {
   "cell_type": "markdown",
   "metadata": {},
   "source": [
    "**6. Правда ли, что люди, которые получают больше 50k, имеют минимум высшее образование? (признак *education – Bachelors, Prof-school, Assoc-acdm, Assoc-voc, Masters* или *Doctorate*)**"
   ]
  },
  {
   "cell_type": "code",
   "execution_count": 14,
   "metadata": {},
   "outputs": [
    {
     "name": "stdout",
     "output_type": "stream",
     "text": [
      "salary  education   \n",
      ">50K    10th                    [10th]\n",
      "        11th                    [11th]\n",
      "        12th                    [12th]\n",
      "        1st-4th              [1st-4th]\n",
      "        5th-6th              [5th-6th]\n",
      "        7th-8th              [7th-8th]\n",
      "        9th                      [9th]\n",
      "        Assoc-acdm        [Assoc-acdm]\n",
      "        Assoc-voc          [Assoc-voc]\n",
      "        Bachelors          [Bachelors]\n",
      "        Doctorate          [Doctorate]\n",
      "        HS-grad              [HS-grad]\n",
      "        Masters              [Masters]\n",
      "        Prof-school      [Prof-school]\n",
      "        Some-college    [Some-college]\n",
      "Name: education, dtype: object\n"
     ]
    }
   ],
   "source": [
    "sal1 = data.where(data['salary'] == '>50K').groupby(['salary','education'])['education'].unique()\n",
    "print(sal1)"
   ]
  },
  {
   "cell_type": "markdown",
   "metadata": {},
   "source": [
    "**7. Выведите статистику возраста для каждой расы (признак *race*) и каждого пола. Используйте *groupby* и *describe*. Найдите таким образом максимальный возраст мужчин расы *Asian-Pac-Islander*.**"
   ]
  },
  {
   "cell_type": "code",
   "execution_count": 65,
   "metadata": {
    "scrolled": true
   },
   "outputs": [
    {
     "name": "stdout",
     "output_type": "stream",
     "text": [
      "                             count       mean        std   min   25%   50%  \\\n",
      "race               sex                                                       \n",
      "Amer-Indian-Eskimo Female    119.0  37.117647  13.114991  17.0  27.0  36.0   \n",
      "                   Male      192.0  37.208333  12.049563  17.0  28.0  35.0   \n",
      "Asian-Pac-Islander Female    346.0  35.089595  12.300845  17.0  25.0  33.0   \n",
      "                   Male      693.0  39.073593  12.883944  18.0  29.0  37.0   \n",
      "Black              Female   1555.0  37.854019  12.637197  17.0  28.0  37.0   \n",
      "                   Male     1569.0  37.682600  12.882612  17.0  27.0  36.0   \n",
      "Other              Female    109.0  31.678899  11.631599  17.0  23.0  29.0   \n",
      "                   Male      162.0  34.654321  11.355531  17.0  26.0  32.0   \n",
      "White              Female   8642.0  36.811618  14.329093  17.0  25.0  35.0   \n",
      "                   Male    19174.0  39.652498  13.436029  17.0  29.0  38.0   \n",
      "\n",
      "                             75%   max  \n",
      "race               sex                  \n",
      "Amer-Indian-Eskimo Female  46.00  80.0  \n",
      "                   Male    45.00  82.0  \n",
      "Asian-Pac-Islander Female  43.75  75.0  \n",
      "                   Male    46.00  90.0  \n",
      "Black              Female  46.00  90.0  \n",
      "                   Male    46.00  90.0  \n",
      "Other              Female  39.00  74.0  \n",
      "                   Male    42.00  77.0  \n",
      "White              Female  46.00  90.0  \n",
      "                   Male    49.00  90.0  \n",
      "Asian-Pac-Islander male max age: 90.0\n"
     ]
    }
   ],
   "source": [
    "stat = data.groupby(['race','sex'])['age'].describe()\n",
    "print(stat)\n",
    "stat1 = stat['max'].loc['Asian-Pac-Islander','Male']\n",
    "print(f'Asian-Pac-Islander male max age: {stat1}')"
   ]
  },
  {
   "cell_type": "markdown",
   "metadata": {},
   "source": [
    "**8. Среди кого больше доля зарабатывающих много (>50K): среди женатых или холостых мужчин (признак *marital-status*)? Женатыми считаем тех, у кого *marital-status* начинается с *Married* (Married-civ-spouse, Married-spouse-absent или Married-AF-spouse), остальных считаем холостыми.**"
   ]
  },
  {
   "cell_type": "code",
   "execution_count": 77,
   "metadata": {},
   "outputs": [
    {
     "name": "stdout",
     "output_type": "stream",
     "text": [
      "True     85.90741\n",
      "False    14.09259\n",
      "Name: marital-status, dtype: float64\n"
     ]
    }
   ],
   "source": [
    "married_perc = data[data['salary'] == '>50K']['marital-status'].str.startswith('Married').value_counts(True) * 100\n",
    "print(married_perc)"
   ]
  },
  {
   "cell_type": "markdown",
   "metadata": {},
   "source": [
    "**9. Какое максимальное число часов человек работает в неделю (признак *hours-per-week*)? Сколько людей работают такое количество часов и каков среди них процент зарабатывающих много?**"
   ]
  },
  {
   "cell_type": "code",
   "execution_count": 93,
   "metadata": {},
   "outputs": [
    {
     "name": "stdout",
     "output_type": "stream",
     "text": [
      "max hours per week: 99\n",
      "how many people work max hours: 85\n",
      "who earns a lot: 25\n",
      "percents of rich people: 29.411764705882355\n"
     ]
    }
   ],
   "source": [
    "max_hours = data['hours-per-week'].max()\n",
    "print(f'max hours per week: {max_hours}')\n",
    "people_max = data[data['hours-per-week'] == max_hours]['hours-per-week'].count()\n",
    "print(f'how many people work max hours: {people_max}')\n",
    "rich_p = data[data['hours-per-week'] == max_hours].where(data['salary'] == '>50K')['salary'].count()\n",
    "print(f'who earns a lot: {rich_p}')\n",
    "percents = rich_p / people_max * 100\n",
    "print(f'percents of rich people: {percents}')"
   ]
  },
  {
   "cell_type": "markdown",
   "metadata": {},
   "source": [
    "**10. Посчитайте среднее время работы (*hours-per-week*) зарабатывающих мало и много (*salary*) для каждой страны (*native-country*).**"
   ]
  },
  {
   "cell_type": "code",
   "execution_count": 96,
   "metadata": {
    "scrolled": true
   },
   "outputs": [
    {
     "name": "stdout",
     "output_type": "stream",
     "text": [
      "native-country  salary\n",
      "?               <=50K     40.164760\n",
      "                >50K      45.547945\n",
      "Cambodia        <=50K     41.416667\n",
      "                >50K      40.000000\n",
      "Canada          <=50K     37.914634\n",
      "                            ...    \n",
      "United-States   >50K      45.505369\n",
      "Vietnam         <=50K     37.193548\n",
      "                >50K      39.200000\n",
      "Yugoslavia      <=50K     41.600000\n",
      "                >50K      49.500000\n",
      "Name: hours-per-week, Length: 82, dtype: float64\n"
     ]
    }
   ],
   "source": [
    "avg_hours = data.groupby(['native-country', 'salary'])['hours-per-week'].mean()\n",
    "print(avg_hours)"
   ]
  },
  {
   "cell_type": "markdown",
   "metadata": {},
   "source": [
    "**11.Сгруппируйте людей по возрастным группам *young*, *adult*, *retiree*, где:**\n",
    "* *young* соответствует 16-35 лет\n",
    "* *adult* - 35-70 лет\n",
    "* *retiree* - 70-100 лет\n",
    "\n",
    "**Проставьте название соответсвтуещей группы для каждого человека в новой колонке AgeGroup**"
   ]
  },
  {
   "cell_type": "code",
   "execution_count": 125,
   "metadata": {
    "scrolled": true
   },
   "outputs": [
    {
     "name": "stderr",
     "output_type": "stream",
     "text": [
      "C:\\Users\\Настя\\AppData\\Local\\Temp\\ipykernel_23100\\4198845760.py:6: SettingWithCopyWarning: \n",
      "A value is trying to be set on a copy of a slice from a DataFrame\n",
      "\n",
      "See the caveats in the documentation: https://pandas.pydata.org/pandas-docs/stable/user_guide/indexing.html#returning-a-view-versus-a-copy\n",
      "  data['AgeGroup'].iloc[i] = 'adult'\n",
      "C:\\Users\\Настя\\AppData\\Local\\Temp\\ipykernel_23100\\4198845760.py:4: SettingWithCopyWarning: \n",
      "A value is trying to be set on a copy of a slice from a DataFrame\n",
      "\n",
      "See the caveats in the documentation: https://pandas.pydata.org/pandas-docs/stable/user_guide/indexing.html#returning-a-view-versus-a-copy\n",
      "  data['AgeGroup'].iloc[i] = 'young'\n",
      "C:\\Users\\Настя\\AppData\\Local\\Temp\\ipykernel_23100\\4198845760.py:8: SettingWithCopyWarning: \n",
      "A value is trying to be set on a copy of a slice from a DataFrame\n",
      "\n",
      "See the caveats in the documentation: https://pandas.pydata.org/pandas-docs/stable/user_guide/indexing.html#returning-a-view-versus-a-copy\n",
      "  data['AgeGroup'].iloc[i] = 'retiree'\n"
     ]
    },
    {
     "name": "stdout",
     "output_type": "stream",
     "text": [
      "       age AgeGroup\n",
      "0       39    adult\n",
      "1       50    adult\n",
      "2       38    adult\n",
      "3       53    adult\n",
      "4       28    young\n",
      "...    ...      ...\n",
      "32556   27    young\n",
      "32557   40    adult\n",
      "32558   58    adult\n",
      "32559   22    young\n",
      "32560   52    adult\n",
      "\n",
      "[32561 rows x 2 columns]\n"
     ]
    }
   ],
   "source": [
    "data['AgeGroup'] = ''\n",
    "for i in range(data['age'].count()):\n",
    "    if 16 <= data['age'].iloc[i] < 35:\n",
    "        data['AgeGroup'].iloc[i] = 'young'\n",
    "    elif 35 <= data['age'].iloc[i] < 70:\n",
    "        data['AgeGroup'].iloc[i] = 'adult'\n",
    "    elif 70 <= data['age'].iloc[i] < 100:\n",
    "        data['AgeGroup'].iloc[i] = 'retiree'\n",
    "    else:\n",
    "        data['AgeGroup'].iloc[i] = 'Nan'\n",
    "ddata = data[['age','AgeGroup']]\n",
    "print(ddata)\n"
   ]
  },
  {
   "cell_type": "markdown",
   "metadata": {},
   "source": [
    "**12-13. Определите количество зарабатывающих >50K в каждой из возрастных групп (колонка AgeGroup), а также выведите название возрастной группы, в которой чаще зарабатывают больше 50К (>50K)**"
   ]
  },
  {
   "cell_type": "code",
   "execution_count": 149,
   "metadata": {},
   "outputs": [
    {
     "name": "stdout",
     "output_type": "stream",
     "text": [
      "AgeGroup\n",
      "adult      6240\n",
      "retiree     113\n",
      "young      1488\n",
      "Name: AgeGroup, dtype: int64\n",
      "adult\n"
     ]
    }
   ],
   "source": [
    "agegroup_count = data[data['salary'] == '>50K'].groupby('AgeGroup')['AgeGroup'].count()\n",
    "print(agegroup_count)\n",
    "max_count = agegroup_count.max()\n",
    "max_agegroup_count = agegroup_count[agegroup_count == max_count].index[0]\n",
    "print(max_agegroup_count)\n"
   ]
  },
  {
   "cell_type": "markdown",
   "metadata": {},
   "source": [
    "**14. Сгруппируйте людей по типу занятости (колонка occupation) и определите количество людей в каждой группе. После чего напишите функциюю фильтрации filter_func, которая будет возвращать только те группы, в которых средний возраст (колонка age) не больше 40 и в которых все работники отрабатывают более 5 часов в неделю (колонка hours-per-week)**"
   ]
  },
  {
   "cell_type": "code",
   "execution_count": 243,
   "metadata": {},
   "outputs": [
    {
     "name": "stdout",
     "output_type": "stream",
     "text": [
      "       age    workclass  fnlwgt     education  education-num  \\\n",
      "442     24  Federal-gov  191073       HS-grad              9   \n",
      "1300    29  Federal-gov  301010  Some-college             10   \n",
      "14613   39  Federal-gov  227597       HS-grad              9   \n",
      "16111   24  Federal-gov  287988     Bachelors             13   \n",
      "18034   34  Federal-gov  172716          12th              8   \n",
      "18644   23  Federal-gov  163870  Some-college             10   \n",
      "18769   30  Federal-gov   76313       HS-grad              9   \n",
      "25799   46  Federal-gov  344415       Masters             14   \n",
      "32316   23  Federal-gov  173851       HS-grad              9   \n",
      "\n",
      "           marital-status    occupation    relationship                race  \\\n",
      "442         Never-married  Armed-Forces       Own-child               White   \n",
      "1300        Never-married  Armed-Forces   Not-in-family               Black   \n",
      "14613       Never-married  Armed-Forces   Not-in-family               White   \n",
      "16111       Never-married  Armed-Forces   Not-in-family               White   \n",
      "18034  Married-civ-spouse  Armed-Forces         Husband               White   \n",
      "18644       Never-married  Armed-Forces  Other-relative               White   \n",
      "18769  Married-civ-spouse  Armed-Forces  Other-relative  Amer-Indian-Eskimo   \n",
      "25799  Married-civ-spouse  Armed-Forces         Husband               White   \n",
      "32316       Never-married  Armed-Forces   Not-in-family               White   \n",
      "\n",
      "        sex  capital-gain  capital-loss  hours-per-week native-country salary  \\\n",
      "442    Male             0             0              40  United-States  <=50K   \n",
      "1300   Male             0             0              60  United-States  <=50K   \n",
      "14613  Male             0             0              50  United-States  <=50K   \n",
      "16111  Male             0             0              40  United-States  <=50K   \n",
      "18034  Male             0             0              40  United-States  <=50K   \n",
      "18644  Male             0             0              40  United-States  <=50K   \n",
      "18769  Male             0             0              48  United-States  <=50K   \n",
      "25799  Male             0          1887              40  United-States   >50K   \n",
      "32316  Male             0             0               8  United-States  <=50K   \n",
      "\n",
      "      AgeGroup  \n",
      "442      young  \n",
      "1300     young  \n",
      "14613    adult  \n",
      "16111    young  \n",
      "18034    young  \n",
      "18644    young  \n",
      "18769    young  \n",
      "25799    adult  \n",
      "32316    young  \n"
     ]
    }
   ],
   "source": [
    "occup_count = data.groupby(['occupation'])['occupation'].count()\n",
    "occup_groups = occup_count.keys()\n",
    "occup_groups_count = len(occup_count.index)\n",
    "def filter_func(group, occupp_count):\n",
    "    avg_age = data[data['occupation'] == 'group']['age'].mean()\n",
    "    work_hours_more_than_5 = data[data['occupation'] == 'group']['hours-per-week'] > 5\n",
    "    for i in range(occupp_count):\n",
    "        if avg_age <= 40 and work_hours_more_than_5.iloc[i] == True:\n",
    "            return f'{group} is cool'\n",
    "        else:\n",
    "            return f'{group} is not cool group'\n",
    "        \n",
    "\n",
    "#for j in range(occup_groups_count)\n",
    "    #print(filter_func(occup_groups[j], occup_count[j]))\n",
    "\n",
    "grouped_df = data.groupby('occupation')\n",
    "\n",
    "def filter_func(group):\n",
    "    return (group['age'].mean() < 40) & (group['hours-per-week'].min() > 5)\n",
    "\n",
    "grouped_df.filter(filter_func)\n"
   ]
  }
 ],
 "metadata": {
  "anaconda-cloud": {},
  "kernelspec": {
   "display_name": "Python 3.9.13 64-bit (windows store)",
   "language": "python",
   "name": "python3"
  },
  "language_info": {
   "codemirror_mode": {
    "name": "ipython",
    "version": 3
   },
   "file_extension": ".py",
   "mimetype": "text/x-python",
   "name": "python",
   "nbconvert_exporter": "python",
   "pygments_lexer": "ipython3",
   "version": "3.9.13"
  },
  "vscode": {
   "interpreter": {
    "hash": "57896ab3dc88dcce667e71f2a91fa8a2ad7ad44bb087146d98057ae4d1fea5fb"
   }
  }
 },
 "nbformat": 4,
 "nbformat_minor": 1
}
