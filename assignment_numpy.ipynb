{
 "cells": [
  {
   "cell_type": "markdown",
   "id": "d3df79dd",
   "metadata": {},
   "source": [
    "## Упражнения по библиотеке Numpy"
   ]
  },
  {
   "cell_type": "code",
   "execution_count": 13,
   "id": "76b9c43b",
   "metadata": {},
   "outputs": [],
   "source": [
    "import numpy as np"
   ]
  },
  {
   "cell_type": "markdown",
   "id": "03727b7c",
   "metadata": {},
   "source": [
    "**1.** Дан случайный массив, поменять знак у элементов, значения которых между 3 и 8"
   ]
  },
  {
   "cell_type": "code",
   "execution_count": 15,
   "id": "b89a7523",
   "metadata": {},
   "outputs": [
    {
     "name": "stdout",
     "output_type": "stream",
     "text": [
      "[9 2 0 3 5 9 7 4 3 6 0]\n",
      "[ 9  2  0  3 -5  9 -7 -4  3 -6  0]\n",
      "[ 0  1  2  3  4  5  6  7  8  9 10]\n",
      "[ 0  1  2  3 -4 -5 -6 -7 -8  9 10]\n"
     ]
    }
   ],
   "source": [
    "#1\n",
    "import numpy.random as rand\n",
    "a = np.array(rand.randint(0, 10, 11))\n",
    "print(a)\n",
    "for i in range(len(a)):\n",
    "    if 3 < a[i] < 8:\n",
    "        a[i] = - a[i]\n",
    "print(a)\n",
    "#2\n",
    "Z = np.arange(11)\n",
    "print(Z)\n",
    "Z[(3 < Z) & (Z <= 8)] *= -1\n",
    "print(Z)"
   ]
  },
  {
   "cell_type": "markdown",
   "id": "5fa4abda",
   "metadata": {},
   "source": [
    "**2.** Заменить максимальный элемент случайного массива на 0"
   ]
  },
  {
   "cell_type": "code",
   "execution_count": 16,
   "id": "f2788a6e",
   "metadata": {},
   "outputs": [
    {
     "name": "stdout",
     "output_type": "stream",
     "text": [
      "[4 4 1 8 3 7 2 5 1 9 6]\n",
      "[4 4 1 8 3 7 2 5 1 0 6]\n",
      "[0.23094459 0.31870805 0.40781164 0.67841927 0.57093825 0.9184381\n",
      " 0.83357175 0.83664664 0.35451633 0.5886426 ]\n",
      "[0.23094459 0.31870805 0.40781164 0.67841927 0.57093825 0.\n",
      " 0.83357175 0.83664664 0.35451633 0.5886426 ]\n",
      "[0.42762462 0.30700814 0.33377764 0.02484644 0.93712792 0.90933943\n",
      " 0.5425211  0.03906068 0.63193229 0.90008606]\n",
      "[0.42762462 0.30700814 0.33377764 0.02484644 0.         0.90933943\n",
      " 0.5425211  0.03906068 0.63193229 0.90008606]\n"
     ]
    }
   ],
   "source": [
    "import numpy.random as rand\n",
    "a = np.array(rand.randint(0, 10, 11))\n",
    "print(a)\n",
    "max_value = np.max(a)\n",
    "for i in range(len(a)):\n",
    "    if a[i] == max_value:\n",
    "        a[i] = 0\n",
    "print(a)\n",
    "#второе решение\n",
    "z = rand.random(10)\n",
    "print(z)\n",
    "z[z.argmax()] = 0\n",
    "print(z)\n",
    "#второе подходит для многомерного массива\n",
    "d = rand.random(10)\n",
    "print(d)\n",
    "d[d == d.max()] = 0\n",
    "print(d)"
   ]
  },
  {
   "cell_type": "markdown",
   "id": "3cac656b",
   "metadata": {},
   "source": [
    "**3.** Построить прямое произведение массивов (все комбинации с каждым элементом). На вход подается двумерный массив"
   ]
  },
  {
   "cell_type": "code",
   "execution_count": 140,
   "id": "3396b764",
   "metadata": {},
   "outputs": [
    {
     "name": "stdout",
     "output_type": "stream",
     "text": [
      "[[1 4]\n",
      " [1 5]\n",
      " [2 4]\n",
      " [2 5]\n",
      " [3 4]\n",
      " [3 5]]\n"
     ]
    }
   ],
   "source": [
    "def cartesian(arrays):\n",
    "    arrays = [np.asarray(a) for a in arrays]\n",
    "    shape = map(len, arrays)\n",
    "\n",
    "    ix = np.indices(shape, dtype=int)\n",
    "    ix = ix.reshape(len(arrays), -1).T\n",
    "\n",
    "    for n, arr in enumerate(arrays):\n",
    "        ix[:, n] = arrays[n][ix[:, n]]\n",
    "\n",
    "    return ix\n",
    "\n",
    "print(cartesian( [ [1, 2, 3], [4, 5] ] ))"
   ]
  },
  {
   "cell_type": "markdown",
   "id": "674c9354",
   "metadata": {},
   "source": [
    "**4.** Даны 2 массива A (8x3) и B (2x2). Найти строки в A, которые содержат элементы из каждой строки в B, независимо от порядка элементов в B"
   ]
  },
  {
   "cell_type": "code",
   "execution_count": 98,
   "id": "cb664782",
   "metadata": {},
   "outputs": [
    {
     "name": "stdout",
     "output_type": "stream",
     "text": [
      "[[0 4 0]\n",
      " [1 4 1]\n",
      " [4 1 1]\n",
      " [2 3 0]\n",
      " [2 3 0]\n",
      " [3 3 0]\n",
      " [3 4 2]\n",
      " [0 3 2]]\n",
      "[[1 3]\n",
      " [1 4]]\n",
      "[1 2 5 6]\n"
     ]
    }
   ],
   "source": [
    "import numpy.random as rand\n",
    "A = rand.randint(0,5,(8,3))\n",
    "B = rand.randint(0,5,(2,2))\n",
    "print(A)\n",
    "print(B)\n",
    "C = (A[..., np.newaxis, np.newaxis] == B)\n",
    "rows = (C.sum(axis=(1,2,3)) >= B.shape[1]).nonzero()[0]\n",
    "print(rows)"
   ]
  },
  {
   "cell_type": "markdown",
   "id": "fa46533b",
   "metadata": {},
   "source": [
    "**5.** Дана 10x3 матрица, найти строки из неравных значений (например строка [2,2,3] остается, строка [3,3,3] удаляется)"
   ]
  },
  {
   "cell_type": "code",
   "execution_count": 89,
   "id": "fa545b23",
   "metadata": {},
   "outputs": [
    {
     "name": "stdout",
     "output_type": "stream",
     "text": [
      "[[4 4 4]\n",
      " [3 2 2]\n",
      " [0 0 4]\n",
      " [2 4 4]\n",
      " [2 3 3]\n",
      " [4 3 1]\n",
      " [1 3 2]\n",
      " [3 2 4]\n",
      " [4 3 1]\n",
      " [4 0 4]]\n",
      "[[3 2 2]\n",
      " [0 0 4]\n",
      " [2 4 4]\n",
      " [2 3 3]\n",
      " [4 3 1]\n",
      " [1 3 2]\n",
      " [3 2 4]\n",
      " [4 3 1]\n",
      " [4 0 4]]\n"
     ]
    }
   ],
   "source": [
    "import numpy.random as rand\n",
    "Z = rand.randint(0,5,(10,3))\n",
    "E = np.logical_and.reduce(Z[:,1:] == Z[:,:-1], axis=1)\n",
    "U = Z[~E]\n",
    "print(Z)\n",
    "print(U)"
   ]
  },
  {
   "cell_type": "markdown",
   "id": "28f0d116",
   "metadata": {},
   "source": [
    "**6.** Дан двумерный массив. Удалить те строки, которые повторяются"
   ]
  },
  {
   "cell_type": "code",
   "execution_count": 42,
   "id": "83d2c0b7",
   "metadata": {},
   "outputs": [
    {
     "name": "stdout",
     "output_type": "stream",
     "text": [
      "[[1 1 0]\n",
      " [1 0 1]\n",
      " [1 1 1]\n",
      " [0 0 1]\n",
      " [0 1 1]\n",
      " [0 0 0]]\n",
      "[[0 0 0]\n",
      " [0 0 1]\n",
      " [0 1 1]\n",
      " [1 0 1]\n",
      " [1 1 0]\n",
      " [1 1 1]]\n"
     ]
    }
   ],
   "source": [
    "import numpy.random as rand\n",
    "Z = rand.randint(0, 2, (6,3))\n",
    "T = np.ascontiguousarray(Z).view(np.dtype((np.void, Z.dtype.itemsize * Z.shape[1])))\n",
    "_, idx = np.unique(T, return_index=True)\n",
    "uZ = Z[idx]\n",
    "print(Z)\n",
    "print(uZ)"
   ]
  },
  {
   "cell_type": "markdown",
   "id": "6daa9e37",
   "metadata": {},
   "source": [
    "______\n",
    "______"
   ]
  },
  {
   "cell_type": "markdown",
   "id": "cfbfcaff",
   "metadata": {},
   "source": [
    "Для каждой из следующих задач (1-5) нужно привести 2 реализации – одна без использования numpy (cчитайте, что там, где на входе или выходе должны быть numpy array, будут просто списки), а вторая полностью векторизованная с использованием numpy (без использования питоновских циклов/map/list comprehension).\n",
    "\n",
    "\n",
    "__Замечание 1.__ Можно считать, что все указанные объекты непустые (к примеру, в __задаче 1__ на диагонали матрицы есть ненулевые элементы).\n",
    "\n",
    "__Замечание 2.__ Для большинства задач решение занимает не больше 1-2 строк."
   ]
  },
  {
   "cell_type": "markdown",
   "id": "673cac7f",
   "metadata": {},
   "source": [
    "___"
   ]
  },
  {
   "cell_type": "markdown",
   "id": "ca6f585e",
   "metadata": {},
   "source": [
    "* __Задача 1__: Подсчитать произведение ненулевых элементов на диагонали прямоугольной матрицы.  \n",
    " Например, для X = np.array([[1, 0, 1], [2, 0, 2], [3, 0, 3], [4, 4, 4]]) ответ 3."
   ]
  },
  {
   "cell_type": "code",
   "execution_count": 78,
   "id": "065862fc",
   "metadata": {},
   "outputs": [
    {
     "name": "stdout",
     "output_type": "stream",
     "text": [
      "3\n",
      "3\n"
     ]
    }
   ],
   "source": [
    "#1\n",
    "x = np.array([[1, 0, 1], [2, 0, 2], [3, 0, 3], [4, 4, 4]])\n",
    "res = np.prod(np.diag(x)[np.diag(x)!=0])\n",
    "print(res)\n",
    "\n",
    "#2\n",
    "x = [[1, 0, 1], [2, 0, 2], [3, 0, 3], [4, 4, 4]]\n",
    "n = len(x[0]) #столбцы\n",
    "m = len(x)  #строки\n",
    "f = 1\n",
    "for i in range(m):\n",
    "   for j in range(n):\n",
    "      if i == j and x[i][j] != 0: #диагональ + !=0\n",
    "         f *= x[i][j] \n",
    "print(f)"
   ]
  },
  {
   "cell_type": "markdown",
   "id": "9fc51d41",
   "metadata": {},
   "source": [
    "* __Задача 2__: Даны два вектора x и y. Проверить, задают ли они одно и то же мультимножество.  \n",
    "  Например, для x = np.array([1, 2, 2, 4]), y = np.array([4, 2, 1, 2]) ответ True."
   ]
  },
  {
   "cell_type": "code",
   "execution_count": 32,
   "id": "a809e02f",
   "metadata": {},
   "outputs": [
    {
     "name": "stdout",
     "output_type": "stream",
     "text": [
      "True\n",
      "True\n"
     ]
    }
   ],
   "source": [
    "#1\n",
    "x = np.array([1,2,2,4])\n",
    "y = np.array([4,2,1,2])\n",
    "x_nums, x_counts = np.unique(x, return_counts=True)\n",
    "y_nums, y_counts = np.unique(y, return_counts=True)\n",
    "if(np.shape(x_nums) != np.shape(y_nums)):\n",
    "    print(False)\n",
    "if(np.any(x_nums != y_nums) or np.any(x_counts != y_counts)):\n",
    "    print(False)\n",
    "print(True)\n",
    "\n",
    "#2\n",
    "x = ([1,2,2,4])\n",
    "y = ([4,2,1,2])\n",
    "if(len(x) != len(y)):\n",
    "    print(False)\n",
    "x.sort()\n",
    "y.sort()\n",
    "for i in range(len(x)):\n",
    "    if(x[i] != y[i]):\n",
    "        print(False)\n",
    "print(True)"
   ]
  },
  {
   "cell_type": "markdown",
   "id": "b9c185c7",
   "metadata": {},
   "source": [
    "* __Задача 3__: Найти максимальный элемент в векторе x среди элементов, перед которыми стоит ноль. \n",
    " Например, для x = np.array([6, 2, 0, 3, 0, 0, 5, 7, 0]) ответ 5."
   ]
  },
  {
   "cell_type": "code",
   "execution_count": 31,
   "id": "b57df008",
   "metadata": {},
   "outputs": [
    {
     "name": "stdout",
     "output_type": "stream",
     "text": [
      "5\n",
      "5\n"
     ]
    }
   ],
   "source": [
    "#1\n",
    "x = np.array([6,2,0,3,0,0,5,7,0])\n",
    "curr = np.ones((1))\n",
    "curr = np.hstack((curr, x))\n",
    "ind = curr == 0\n",
    "result = np.max(x[ind[:-1]])\n",
    "print(result) \n",
    "\n",
    "#2\n",
    "x = ([6,2,0,3,0,0,5,7,0])\n",
    "after_zero_list = list()\n",
    "for i in range(1, len(x)):\n",
    "    if(not x[i - 1]):\n",
    "        after_zero_list.append(x[i])\n",
    "result = max(after_zero_list)\n",
    "print(result)  "
   ]
  },
  {
   "cell_type": "markdown",
   "id": "480be4ce",
   "metadata": {},
   "source": [
    "* __Задача 4__: Реализовать кодирование длин серий (Run-length encoding). Для некоторого вектора x необходимо вернуть кортеж из двух векторов одинаковой длины. Первый содержит числа, а второй - сколько раз их нужно повторить.  \n",
    " Например, для x = np.array([2, 2, 2, 3, 3, 3, 5]) ответ (np.array([2, 3, 5]), np.array([3, 3, 1]))."
   ]
  },
  {
   "cell_type": "code",
   "execution_count": 30,
   "id": "3c592124",
   "metadata": {},
   "outputs": [
    {
     "name": "stdout",
     "output_type": "stream",
     "text": [
      "(array([2, 3, 5]), array([3, 3, 1]))\n",
      "([2, 3, 5], [3, 3, 1])\n"
     ]
    }
   ],
   "source": [
    "#1\n",
    "x = np.array([2,2,2,3,3,3,5])\n",
    "y = np.hstack((np.ones(1), x[:- 1]))\n",
    "first_positions = x != y\n",
    "first_positions[0] = True\n",
    "indexes_1 = np.arange(np.size(x))[first_positions]\n",
    "indexes_2 = np.hstack((indexes_1[1:], np.array([np.size(x)])))\n",
    "result = x[first_positions], indexes_2 - indexes_1\n",
    "print(result)\n",
    "\n",
    "#2\n",
    "x = ([2,2,2,3,3,3,5])\n",
    "val_list = [x[0]]\n",
    "num_list = list()\n",
    "counter = 1\n",
    "for i in range(1, len(x)):\n",
    "    if(x[i - 1] == x[i]):\n",
    "        counter = counter + 1\n",
    "    else:\n",
    "        val_list.append(x[i])\n",
    "        num_list.append(counter)\n",
    "        counter = 1\n",
    "num_list.append(counter)\n",
    "result = (val_list, num_list)\n",
    "print(result)"
   ]
  },
  {
   "cell_type": "markdown",
   "id": "077532ec",
   "metadata": {},
   "source": [
    "* __Задача 5__: Даны две выборки объектов - X и Y. Вычислить матрицу евклидовых расстояний между объектами. Сравните с функцией scipy.spatial.distance.cdist по скорости работы."
   ]
  },
  {
   "cell_type": "code",
   "execution_count": 29,
   "id": "1e807797",
   "metadata": {},
   "outputs": [
    {
     "name": "stdout",
     "output_type": "stream",
     "text": [
      "5.830951894845301\n",
      "[[5.830951894845301]]\n",
      "[[5.83095189]]\n"
     ]
    }
   ],
   "source": [
    "import math\n",
    "#1 - 0.5s\n",
    "X = np.array((1, 3, 4))\n",
    "Y = np.array((4, 7, 1))\n",
    "distance = np.sqrt(sum(pow(a-b, 2) for a, b in zip(X, Y)))\n",
    "print(distance)\n",
    "\n",
    "#2 - 0.4s\n",
    "X = [(1,3,4)]\n",
    "Y = [(4,7,1)]\n",
    "result_matr = list()\n",
    "for i in range(len(X)):\n",
    "    curr_list = list()\n",
    "    for j in range(len(Y)):\n",
    "        dist = 0\n",
    "        for k in range(len(X[0])):\n",
    "            dist += (X[i][k] - Y[j][k]) ** 2\n",
    "        curr_list.append(math.sqrt(dist))\n",
    "    result_matr.append(curr_list)\n",
    "print(result_matr)\n",
    "\n",
    "#3 - 0.9s - работает дольше\n",
    "import scipy.spatial\n",
    "X = [(1,3,4)]\n",
    "Y = [(4,7,1)]\n",
    "D = scipy.spatial.distance.cdist(X, Y, 'euclidean')\n",
    "print(D)"
   ]
  },
  {
   "cell_type": "markdown",
   "id": "973e8064",
   "metadata": {},
   "source": [
    "_______\n",
    "________"
   ]
  },
  {
   "cell_type": "markdown",
   "id": "1104acb7",
   "metadata": {},
   "source": [
    "* #### __Задача 6__: CrunchieMunchies __*__\n",
    "\n",
    "Вы работаете в отделе маркетинга пищевой компании MyCrunch, которая разрабатывает новый вид вкусных, полезных злаков под названием **CrunchieMunchies**.\n",
    "\n",
    "Вы хотите продемонстрировать потребителям, насколько полезны ваши хлопья по сравнению с другими ведущими брендами, поэтому вы собрали данные о питании нескольких разных конкурентов.\n",
    "\n",
    "Ваша задача - использовать вычисления Numpy для анализа этих данных и доказать, что ваши **СrunchieMunchies** - самый здоровый выбор для потребителей.\n"
   ]
  },
  {
   "cell_type": "code",
   "execution_count": 4,
   "id": "10a77f8d",
   "metadata": {},
   "outputs": [],
   "source": [
    "import numpy as np"
   ]
  },
  {
   "cell_type": "markdown",
   "id": "ab87cb03",
   "metadata": {},
   "source": [
    "1. Просмотрите файл cereal.csv. Этот файл содержит количества калорий для различных марок хлопьев. Загрузите данные из файла и сохраните их как calorie_stats."
   ]
  },
  {
   "cell_type": "code",
   "execution_count": 5,
   "id": "9681ebf2",
   "metadata": {},
   "outputs": [
    {
     "name": "stdout",
     "output_type": "stream",
     "text": [
      "[ 70. 120.  70.  50. 110. 110. 110. 130.  90.  90. 120. 110. 120. 110.\n",
      " 110. 110. 100. 110. 110. 110. 100. 110. 100. 100. 110. 110. 100. 120.\n",
      " 120. 110. 100. 110. 100. 110. 120. 120. 110. 110. 110. 140. 110. 100.\n",
      " 110. 100. 150. 150. 160. 100. 120. 140.  90. 130. 120. 100.  50.  50.\n",
      " 100. 100. 120. 100.  90. 110. 110.  80.  90.  90. 110. 110.  90. 110.\n",
      " 140. 100. 110. 110. 100. 100. 110.]\n"
     ]
    }
   ],
   "source": [
    "calorie_stats = np.loadtxt(\"./data/cereal.csv\", delimiter=\",\")\n",
    "print(calorie_stats)"
   ]
  },
  {
   "cell_type": "markdown",
   "id": "139cfbd8",
   "metadata": {},
   "source": [
    "2. В одной порции CrunchieMunchies содержится 60 калорий. Насколько выше среднее количество калорий у ваших конкурентов?\n",
    "\n",
    "Сохраните ответ в переменной average_calories и распечатайте переменную в терминале"
   ]
  },
  {
   "cell_type": "code",
   "execution_count": 6,
   "id": "7036d240",
   "metadata": {},
   "outputs": [
    {
     "name": "stdout",
     "output_type": "stream",
     "text": [
      "106.88311688311688\n",
      "46.883116883116884\n"
     ]
    }
   ],
   "source": [
    "calorie_mean = np.mean(calorie_stats) # мы могли бы использовать np.average, но по важности все значения тут одинаковы, поэтому mean\n",
    "crunchie_calories = 60\n",
    "average_calories = calorie_mean - crunchie_calories\n",
    "print(calorie_mean)\n",
    "print(average_calories)"
   ]
  },
  {
   "cell_type": "markdown",
   "id": "b2ddb4cd",
   "metadata": {},
   "source": [
    "3. Корректно ли среднее количество калорий отражает распределение набора данных? Давайте отсортируем данные и посмотрим.\n",
    "\n",
    "Отсортируйте данные и сохраните результат в переменной calorie_stats_sorted. Распечатайте отсортированную информацию"
   ]
  },
  {
   "cell_type": "code",
   "execution_count": 7,
   "id": "46eeb4ed",
   "metadata": {},
   "outputs": [
    {
     "name": "stdout",
     "output_type": "stream",
     "text": [
      "[ 50.  50.  50.  70.  70.  80.  90.  90.  90.  90.  90.  90.  90. 100.\n",
      " 100. 100. 100. 100. 100. 100. 100. 100. 100. 100. 100. 100. 100. 100.\n",
      " 100. 100. 110. 110. 110. 110. 110. 110. 110. 110. 110. 110. 110. 110.\n",
      " 110. 110. 110. 110. 110. 110. 110. 110. 110. 110. 110. 110. 110. 110.\n",
      " 110. 110. 110. 120. 120. 120. 120. 120. 120. 120. 120. 120. 120. 130.\n",
      " 130. 140. 140. 140. 150. 150. 160.]\n"
     ]
    }
   ],
   "source": [
    "calorie_stats_sorted = np.sort(calorie_stats)\n",
    "print(calorie_stats_sorted)"
   ]
  },
  {
   "cell_type": "markdown",
   "id": "4dc74116",
   "metadata": {},
   "source": [
    "4. Похоже, что большинство значений выше среднего. Давайте посмотрим, является ли медиана наиболее корректным показателем набора данных.\n",
    "\n",
    "Вычислите медиану набора данных и сохраните свой ответ в median_calories. Выведите медиану, чтобы вы могли видеть, как она сравнивается со средним значением."
   ]
  },
  {
   "cell_type": "code",
   "execution_count": 8,
   "id": "b56627c3",
   "metadata": {},
   "outputs": [
    {
     "name": "stdout",
     "output_type": "stream",
     "text": [
      "110.0\n"
     ]
    }
   ],
   "source": [
    "median_calories = np.median(calorie_stats_sorted)\n",
    "print(median_calories)"
   ]
  },
  {
   "cell_type": "markdown",
   "id": "a63ab72f",
   "metadata": {},
   "source": [
    "5. В то время как медиана показывает, что по крайней мере половина наших значений составляет более 100 калорий, было бы более впечатляюще показать, что значительная часть конкурентов имеет более высокое количество калорий, чем CrunchieMunchies.\n",
    "\n",
    "Рассчитайте различные процентили и распечатайте их, пока не найдете наименьший процентиль, превышающий 60 калорий. Сохраните это значение в переменной nth_percentile."
   ]
  },
  {
   "cell_type": "code",
   "execution_count": 9,
   "id": "fe80ce03",
   "metadata": {},
   "outputs": [
    {
     "name": "stdout",
     "output_type": "stream",
     "text": [
      "110.0\n",
      "100.0\n",
      "90.0\n",
      "70.0\n",
      "70.0\n",
      "55.599999999999994\n",
      "70.0\n"
     ]
    }
   ],
   "source": [
    "x = np.percentile(calorie_stats_sorted, 50) #медиана\n",
    "print(x)\n",
    "x = np.percentile(calorie_stats_sorted, 30)\n",
    "print(x)\n",
    "x = np.percentile(calorie_stats_sorted, 10)\n",
    "print(x)\n",
    "x = np.percentile(calorie_stats_sorted, 5)\n",
    "print(x)\n",
    "x = np.percentile(calorie_stats_sorted, 4) #нужное значение\n",
    "print(x)\n",
    "x = np.percentile(calorie_stats_sorted, 3) #уже меньше 60\n",
    "print(x)\n",
    "nth_percentile = np.percentile(calorie_stats_sorted, 4)\n",
    "print(nth_percentile)"
   ]
  },
  {
   "cell_type": "markdown",
   "id": "a2a3c5aa",
   "metadata": {},
   "source": [
    "6. Хотя процентиль показывает нам, что у большинства конкурентов количество калорий намного выше, это неудобная концепция для использования в маркетинговых материалах.\n",
    "\n",
    "Вместо этого давайте подсчитаем процент хлопьев, в которых содержится более 60 калорий на порцию. Сохраните свой ответ в переменной more_calories и распечатайте его"
   ]
  },
  {
   "cell_type": "code",
   "execution_count": 10,
   "id": "ade0f6ea",
   "metadata": {},
   "outputs": [
    {
     "name": "stdout",
     "output_type": "stream",
     "text": [
      "96.1038961038961\n"
     ]
    }
   ],
   "source": [
    "more_calories = np.mean(calorie_stats > 60) * 100 #проценты\n",
    "print(more_calories)"
   ]
  },
  {
   "cell_type": "markdown",
   "id": "1735d65b",
   "metadata": {},
   "source": [
    "7. Это действительно высокий процент. Это будет очень полезно, когда мы будем продвигать CrunchieMunchies. Но один вопрос заключается в том, насколько велики различия в наборе данных? Можем ли мы сделать обобщение, что в большинстве злаков содержится около 100 калорий или разброс еще больше?\n",
    "\n",
    "Рассчитайте величину отклонения, найдя стандартное отклонение, Сохраните свой ответ в calorie_std и распечатайте на терминале. Как мы можем включить эту ценность в наш анализ?"
   ]
  },
  {
   "cell_type": "code",
   "execution_count": 11,
   "id": "85c8df1f",
   "metadata": {},
   "outputs": [
    {
     "name": "stdout",
     "output_type": "stream",
     "text": [
      "19.35718533390827\n"
     ]
    }
   ],
   "source": [
    "calorie_std = np.std(calorie_stats)\n",
    "print(calorie_std)\n",
    "#это показывает, что отклонение от среднего значения (110 калорий) это примерно 20 калорий. в большинстве злаков более 100 калорий, поэтому разброс больше\n",
    "#можем это включить в анализ, чтобы показать диапазон изменений других продуктов на рынке"
   ]
  },
  {
   "cell_type": "markdown",
   "id": "037455c5",
   "metadata": {},
   "source": [
    "8. Напишите короткий абзац, в котором кратко изложите свои выводы и то, как, по вашему мнению, эти данные могут быть использованы в интересах Mycrunch при маркетинге CrunchieMunchies."
   ]
  },
  {
   "cell_type": "code",
   "execution_count": 12,
   "id": "c260fee9",
   "metadata": {},
   "outputs": [
    {
     "name": "stdout",
     "output_type": "stream",
     "text": [
      "77\n"
     ]
    }
   ],
   "source": [
    "print(len(calorie_stats))\n",
    "#согласно вышеприведенным исследованиям, мы можем наглядно видеть, как наш продукт выгодно выделяется на фоне остальных. 96 процентов из 77 рассмотренных продуктов имеют большую калорийность, значит мы можем продвигать наши хлопья как диетический низкокалорийный продукт. это значит, что они не только вкусные и полезные, но и могут помочь вам сбросить вес или же держать себя в форме! "
   ]
  }
 ],
 "metadata": {
  "kernelspec": {
   "display_name": "Python 3.10.4 64-bit (system)",
   "language": "python",
   "name": "python3"
  },
  "language_info": {
   "codemirror_mode": {
    "name": "ipython",
    "version": 3
   },
   "file_extension": ".py",
   "mimetype": "text/x-python",
   "name": "python",
   "nbconvert_exporter": "python",
   "pygments_lexer": "ipython3",
   "version": "3.10.4"
  },
  "vscode": {
   "interpreter": {
    "hash": "e0e54ec256a8c9ed7d2896111eac1421644d1c3eba98276591340271b58db6d4"
   }
  }
 },
 "nbformat": 4,
 "nbformat_minor": 5
}
